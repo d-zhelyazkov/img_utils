{
 "cells": [
  {
   "cell_type": "code",
   "execution_count": null,
   "metadata": {
    "collapsed": true
   },
   "outputs": [],
   "source": [
    "from pathlib import Path\n",
    "\n",
    "from PIL import Image"
   ]
  },
  {
   "cell_type": "code",
   "execution_count": null,
   "outputs": [],
   "source": [
    "IMG_DIR = Path(\"/mnt/data/Impreza/upload/\")\n",
    "\n",
    "PROC_DIR = IMG_DIR/\"simp/\"\n",
    "PROC_DIR.mkdir(exist_ok=True)\n",
    "\n",
    "img_files = list(IMG_DIR.glob(\"*.*\"))\n",
    "img_files"
   ],
   "metadata": {
    "collapsed": false,
    "pycharm": {
     "name": "#%%\n"
    }
   }
  },
  {
   "cell_type": "code",
   "execution_count": null,
   "outputs": [],
   "source": [
    "! xdg-open {IMG_DIR}"
   ],
   "metadata": {
    "collapsed": false,
    "pycharm": {
     "name": "#%%\n"
    }
   }
  },
  {
   "cell_type": "code",
   "execution_count": null,
   "outputs": [],
   "source": [
    "file_ = img_files[2]\n",
    "print(file_.stat())\n",
    "\n",
    "img = Image.open(file_)\n",
    "img"
   ],
   "metadata": {
    "collapsed": false,
    "pycharm": {
     "name": "#%%\n"
    }
   }
  },
  {
   "cell_type": "code",
   "execution_count": null,
   "outputs": [],
   "source": [
    "proc_file = PROC_DIR/(file_.stem + \".jpg\")\n",
    "img.save(proc_file)\n",
    "\n",
    "print(proc_file.stat())\n",
    "Image.open(proc_file)"
   ],
   "metadata": {
    "collapsed": false,
    "pycharm": {
     "name": "#%%\n"
    }
   }
  },
  {
   "cell_type": "code",
   "execution_count": null,
   "outputs": [],
   "source": [
    "for file in img_files:\n",
    "    img = Image.open(file)\n",
    "    img.save(PROC_DIR/(file.stem + \".jpg\"))\n",
    "\n",
    "! xdg-open {PROC_DIR}"
   ],
   "metadata": {
    "collapsed": false,
    "pycharm": {
     "name": "#%%\n"
    }
   }
  }
 ],
 "metadata": {
  "kernelspec": {
   "display_name": "Python 3",
   "language": "python",
   "name": "python3"
  },
  "language_info": {
   "codemirror_mode": {
    "name": "ipython",
    "version": 2
   },
   "file_extension": ".py",
   "mimetype": "text/x-python",
   "name": "python",
   "nbconvert_exporter": "python",
   "pygments_lexer": "ipython2",
   "version": "2.7.6"
  }
 },
 "nbformat": 4,
 "nbformat_minor": 0
}
